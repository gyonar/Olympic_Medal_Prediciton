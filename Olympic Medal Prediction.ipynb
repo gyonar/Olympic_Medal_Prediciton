{
 "cells": [
  {
   "cell_type": "markdown",
   "id": "400701c2",
   "metadata": {},
   "source": [
    "# Predicting the Number of Medals a country wins using Machine Learning\n",
    "This project looks into various Python based machine learning and data science libraries in an attempt to build a machine learning model which is capable of predicting the number of medals a country wins using machine learning with reagrds to the number of atheletes representing it \n",
    "\n",
    "# Data:\n",
    "We'll be using data from the Olympics, which was originally on Kaggle.\n",
    "\n",
    "You can download the file we'll use in this project here:\n",
    "\n",
    "teams.csv - the team-level data that we use in this project.\n",
    "\n",
    "# Evaluation:\n",
    "The evaluation Metric we will use is the inbuilt R-squared metric. To minimise this Coefficient of Determination is the aim of this project. We will then compare our own model with the scikit learns linear regression model\n",
    "\n",
    "Error Metric used here is the mean absolute error\n",
    "model formula= y=ax1+bx2+c\n",
    "\n",
    "# Features:\n",
    "The key fields are in team.csv are:\n",
    "* team\n",
    "* year\n",
    "* athletes\n",
    "* events\n",
    "* age\n",
    "* height\n",
    "* weight\n",
    "* prev_medals\n",
    "* medals\n",
    "https://docs.google.com/spreadsheets/d/1Bg0i7Kgzt0ltNFJrWBkSByNaa_RW_u74m4dHxjIRTl0/edit?usp=sharing"
   ]
  },
  {
   "cell_type": "code",
   "execution_count": 1,
   "id": "7f79a3f9",
   "metadata": {},
   "outputs": [],
   "source": [
    "import pandas as pd"
   ]
  },
  {
   "cell_type": "code",
   "execution_count": 6,
   "id": "deb48613",
   "metadata": {},
   "outputs": [
    {
     "data": {
      "text/html": [
       "<div>\n",
       "<style scoped>\n",
       "    .dataframe tbody tr th:only-of-type {\n",
       "        vertical-align: middle;\n",
       "    }\n",
       "\n",
       "    .dataframe tbody tr th {\n",
       "        vertical-align: top;\n",
       "    }\n",
       "\n",
       "    .dataframe thead th {\n",
       "        text-align: right;\n",
       "    }\n",
       "</style>\n",
       "<table border=\"1\" class=\"dataframe\">\n",
       "  <thead>\n",
       "    <tr style=\"text-align: right;\">\n",
       "      <th></th>\n",
       "      <th>team</th>\n",
       "      <th>country</th>\n",
       "      <th>year</th>\n",
       "      <th>events</th>\n",
       "      <th>athletes</th>\n",
       "      <th>age</th>\n",
       "      <th>height</th>\n",
       "      <th>weight</th>\n",
       "      <th>medals</th>\n",
       "      <th>prev_medals</th>\n",
       "      <th>prev_3_medals</th>\n",
       "    </tr>\n",
       "  </thead>\n",
       "  <tbody>\n",
       "    <tr>\n",
       "      <th>0</th>\n",
       "      <td>AFG</td>\n",
       "      <td>Afghanistan</td>\n",
       "      <td>1964</td>\n",
       "      <td>8</td>\n",
       "      <td>8</td>\n",
       "      <td>22.0</td>\n",
       "      <td>161.0</td>\n",
       "      <td>64.2</td>\n",
       "      <td>0</td>\n",
       "      <td>NaN</td>\n",
       "      <td>NaN</td>\n",
       "    </tr>\n",
       "    <tr>\n",
       "      <th>1</th>\n",
       "      <td>AFG</td>\n",
       "      <td>Afghanistan</td>\n",
       "      <td>1968</td>\n",
       "      <td>5</td>\n",
       "      <td>5</td>\n",
       "      <td>23.2</td>\n",
       "      <td>170.2</td>\n",
       "      <td>70.0</td>\n",
       "      <td>0</td>\n",
       "      <td>0.0</td>\n",
       "      <td>0.0</td>\n",
       "    </tr>\n",
       "    <tr>\n",
       "      <th>2</th>\n",
       "      <td>AFG</td>\n",
       "      <td>Afghanistan</td>\n",
       "      <td>1972</td>\n",
       "      <td>8</td>\n",
       "      <td>8</td>\n",
       "      <td>29.0</td>\n",
       "      <td>168.3</td>\n",
       "      <td>63.8</td>\n",
       "      <td>0</td>\n",
       "      <td>0.0</td>\n",
       "      <td>0.0</td>\n",
       "    </tr>\n",
       "    <tr>\n",
       "      <th>3</th>\n",
       "      <td>AFG</td>\n",
       "      <td>Afghanistan</td>\n",
       "      <td>1980</td>\n",
       "      <td>11</td>\n",
       "      <td>11</td>\n",
       "      <td>23.6</td>\n",
       "      <td>168.4</td>\n",
       "      <td>63.2</td>\n",
       "      <td>0</td>\n",
       "      <td>0.0</td>\n",
       "      <td>0.0</td>\n",
       "    </tr>\n",
       "    <tr>\n",
       "      <th>4</th>\n",
       "      <td>AFG</td>\n",
       "      <td>Afghanistan</td>\n",
       "      <td>2004</td>\n",
       "      <td>5</td>\n",
       "      <td>5</td>\n",
       "      <td>18.6</td>\n",
       "      <td>170.8</td>\n",
       "      <td>64.8</td>\n",
       "      <td>0</td>\n",
       "      <td>0.0</td>\n",
       "      <td>0.0</td>\n",
       "    </tr>\n",
       "    <tr>\n",
       "      <th>...</th>\n",
       "      <td>...</td>\n",
       "      <td>...</td>\n",
       "      <td>...</td>\n",
       "      <td>...</td>\n",
       "      <td>...</td>\n",
       "      <td>...</td>\n",
       "      <td>...</td>\n",
       "      <td>...</td>\n",
       "      <td>...</td>\n",
       "      <td>...</td>\n",
       "      <td>...</td>\n",
       "    </tr>\n",
       "    <tr>\n",
       "      <th>2139</th>\n",
       "      <td>ZIM</td>\n",
       "      <td>Zimbabwe</td>\n",
       "      <td>2000</td>\n",
       "      <td>19</td>\n",
       "      <td>26</td>\n",
       "      <td>25.0</td>\n",
       "      <td>179.0</td>\n",
       "      <td>71.1</td>\n",
       "      <td>0</td>\n",
       "      <td>0.0</td>\n",
       "      <td>0.0</td>\n",
       "    </tr>\n",
       "    <tr>\n",
       "      <th>2140</th>\n",
       "      <td>ZIM</td>\n",
       "      <td>Zimbabwe</td>\n",
       "      <td>2004</td>\n",
       "      <td>11</td>\n",
       "      <td>14</td>\n",
       "      <td>25.1</td>\n",
       "      <td>177.8</td>\n",
       "      <td>70.5</td>\n",
       "      <td>3</td>\n",
       "      <td>0.0</td>\n",
       "      <td>0.0</td>\n",
       "    </tr>\n",
       "    <tr>\n",
       "      <th>2141</th>\n",
       "      <td>ZIM</td>\n",
       "      <td>Zimbabwe</td>\n",
       "      <td>2008</td>\n",
       "      <td>15</td>\n",
       "      <td>16</td>\n",
       "      <td>26.1</td>\n",
       "      <td>171.9</td>\n",
       "      <td>63.7</td>\n",
       "      <td>4</td>\n",
       "      <td>3.0</td>\n",
       "      <td>1.0</td>\n",
       "    </tr>\n",
       "    <tr>\n",
       "      <th>2142</th>\n",
       "      <td>ZIM</td>\n",
       "      <td>Zimbabwe</td>\n",
       "      <td>2012</td>\n",
       "      <td>8</td>\n",
       "      <td>9</td>\n",
       "      <td>27.3</td>\n",
       "      <td>174.4</td>\n",
       "      <td>65.2</td>\n",
       "      <td>0</td>\n",
       "      <td>4.0</td>\n",
       "      <td>2.3</td>\n",
       "    </tr>\n",
       "    <tr>\n",
       "      <th>2143</th>\n",
       "      <td>ZIM</td>\n",
       "      <td>Zimbabwe</td>\n",
       "      <td>2016</td>\n",
       "      <td>13</td>\n",
       "      <td>31</td>\n",
       "      <td>27.5</td>\n",
       "      <td>167.8</td>\n",
       "      <td>62.2</td>\n",
       "      <td>0</td>\n",
       "      <td>0.0</td>\n",
       "      <td>2.3</td>\n",
       "    </tr>\n",
       "  </tbody>\n",
       "</table>\n",
       "<p>2144 rows × 11 columns</p>\n",
       "</div>"
      ],
      "text/plain": [
       "     team      country  year  events  athletes   age  height  weight  medals  \\\n",
       "0     AFG  Afghanistan  1964       8         8  22.0   161.0    64.2       0   \n",
       "1     AFG  Afghanistan  1968       5         5  23.2   170.2    70.0       0   \n",
       "2     AFG  Afghanistan  1972       8         8  29.0   168.3    63.8       0   \n",
       "3     AFG  Afghanistan  1980      11        11  23.6   168.4    63.2       0   \n",
       "4     AFG  Afghanistan  2004       5         5  18.6   170.8    64.8       0   \n",
       "...   ...          ...   ...     ...       ...   ...     ...     ...     ...   \n",
       "2139  ZIM     Zimbabwe  2000      19        26  25.0   179.0    71.1       0   \n",
       "2140  ZIM     Zimbabwe  2004      11        14  25.1   177.8    70.5       3   \n",
       "2141  ZIM     Zimbabwe  2008      15        16  26.1   171.9    63.7       4   \n",
       "2142  ZIM     Zimbabwe  2012       8         9  27.3   174.4    65.2       0   \n",
       "2143  ZIM     Zimbabwe  2016      13        31  27.5   167.8    62.2       0   \n",
       "\n",
       "      prev_medals  prev_3_medals  \n",
       "0             NaN            NaN  \n",
       "1             0.0            0.0  \n",
       "2             0.0            0.0  \n",
       "3             0.0            0.0  \n",
       "4             0.0            0.0  \n",
       "...           ...            ...  \n",
       "2139          0.0            0.0  \n",
       "2140          0.0            0.0  \n",
       "2141          3.0            1.0  \n",
       "2142          4.0            2.3  \n",
       "2143          0.0            2.3  \n",
       "\n",
       "[2144 rows x 11 columns]"
      ]
     },
     "execution_count": 6,
     "metadata": {},
     "output_type": "execute_result"
    }
   ],
   "source": [
    "teams = pd.read_csv(\"teams.csv\")\n",
    "teams"
   ]
  },
  {
   "cell_type": "code",
   "execution_count": 7,
   "id": "5084d8cb",
   "metadata": {},
   "outputs": [],
   "source": [
    "teams_old = teams.copy()\n",
    "teams = teams[[\"team\", \"country\", \"year\", \"athletes\", \"age\", \"prev_medals\", \"medals\"]]\n"
   ]
  },
  {
   "cell_type": "code",
   "execution_count": 8,
   "id": "1fd49805",
   "metadata": {},
   "outputs": [
    {
     "name": "stderr",
     "output_type": "stream",
     "text": [
      "C:\\Users\\pgyot\\AppData\\Local\\Temp\\ipykernel_12872\\3553819720.py:1: FutureWarning: The default value of numeric_only in DataFrame.corr is deprecated. In a future version, it will default to False. Select only valid columns or specify the value of numeric_only to silence this warning.\n",
      "  teams.corr()[\"medals\"]\n"
     ]
    },
    {
     "data": {
      "text/plain": [
       "year          -0.021603\n",
       "athletes       0.840817\n",
       "age            0.025096\n",
       "prev_medals    0.922383\n",
       "medals         1.000000\n",
       "Name: medals, dtype: float64"
      ]
     },
     "execution_count": 8,
     "metadata": {},
     "output_type": "execute_result"
    }
   ],
   "source": [
    "teams.corr()[\"medals\"]"
   ]
  },
  {
   "cell_type": "markdown",
   "id": "f988abea",
   "metadata": {},
   "source": [
    "For linear model strong correlation is required\n",
    "we find that in the number of athletes and the previous medals data"
   ]
  },
  {
   "cell_type": "code",
   "execution_count": 10,
   "id": "60130f67",
   "metadata": {},
   "outputs": [
    {
     "data": {
      "image/png": "[encoded data removed]",
      "text/plain": [
       "<Figure size 500x500 with 1 Axes>"
      ]
     },
     "metadata": {},
     "output_type": "display_data"
    }
   ],
   "source": [
    "import seaborn as sns\n",
    "sns.lmplot(x='athletes',y='medals',data=teams,fit_reg=True);\n",
    "# the area around the regression line is the confidence interval "
   ]
  },
  {
   "cell_type": "code",
   "execution_count": 11,
   "id": "61aa34d6",
   "metadata": {},
   "outputs": [
    {
     "data": {
      "image/png": "[encoded data removed]",
      "text/plain": [
       "<Figure size 500x500 with 1 Axes>"
      ]
     },
     "metadata": {},
     "output_type": "display_data"
    }
   ],
   "source": [
    "sns.lmplot(x='prev_medals',y='medals',data=teams,fit_reg=True);"
   ]
  },
  {
   "cell_type": "code",
   "execution_count": 12,
   "id": "b9776139",
   "metadata": {},
   "outputs": [
    {
     "data": {
      "image/png": "[encoded data removed]",
      "text/plain": [
       "<Figure size 500x500 with 1 Axes>"
      ]
     },
     "metadata": {},
     "output_type": "display_data"
    }
   ],
   "source": [
    "sns.lmplot(x='age',y='medals',data=teams,fit_reg=True);"
   ]
  },
  {
   "cell_type": "code",
   "execution_count": 14,
   "id": "08f8f9dc",
   "metadata": {},
   "outputs": [
    {
     "data": {
      "text/plain": [
       "<Axes: ylabel='Frequency'>"
      ]
     },
     "execution_count": 14,
     "metadata": {},
     "output_type": "execute_result"
    },
    {
     "data": {
      "image/png": "[encoded data removed]",
      "text/plain": [
       "<Figure size 640x480 with 1 Axes>"
      ]
     },
     "metadata": {},
     "output_type": "display_data"
    }
   ],
   "source": [
    "teams.plot.hist(y=\"medals\")"
   ]
  },
  {
   "cell_type": "markdown",
   "id": "88a44d51",
   "metadata": {},
   "source": [
    "this means that the model is not balanced, most countries earn between 0 and 50 while a very few countries earn more medals"
   ]
  },
  {
   "cell_type": "code",
   "execution_count": 15,
   "id": "f2a26faa",
   "metadata": {},
   "outputs": [
    {
     "data": {
      "text/plain": [
       "team             0\n",
       "country          0\n",
       "year             0\n",
       "athletes         0\n",
       "age              0\n",
       "prev_medals    219\n",
       "medals           0\n",
       "dtype: int64"
      ]
     },
     "execution_count": 15,
     "metadata": {},
     "output_type": "execute_result"
    }
   ],
   "source": [
    "teams.isna().sum()"
   ]
  },
  {
   "cell_type": "markdown",
   "id": "c67a8340",
   "metadata": {},
   "source": [
    "Only previous medals have missing data as some countries join the olympics for the first time. It is wise to drop these rows because we cannot predict how well these countries might do"
   ]
  },
  {
   "cell_type": "code",
   "execution_count": 16,
   "id": "cb5fdf2e",
   "metadata": {},
   "outputs": [
    {
     "data": {
      "text/plain": [
       "(2144, 7)"
      ]
     },
     "execution_count": 16,
     "metadata": {},
     "output_type": "execute_result"
    }
   ],
   "source": [
    "teams.shape"
   ]
  },
  {
   "cell_type": "code",
   "execution_count": 17,
   "id": "1a44f061",
   "metadata": {},
   "outputs": [
    {
     "data": {
      "text/plain": [
       "(1925, 7)"
      ]
     },
     "execution_count": 17,
     "metadata": {},
     "output_type": "execute_result"
    }
   ],
   "source": [
    "teams = teams.dropna()\n",
    "teams.shape"
   ]
  },
  {
   "cell_type": "markdown",
   "id": "c3ae98fa",
   "metadata": {},
   "source": [
    "Since this is a time series data we need to split it into train and test data set"
   ]
  },
  {
   "cell_type": "code",
   "execution_count": 18,
   "id": "57e80621",
   "metadata": {},
   "outputs": [],
   "source": [
    "train = teams[teams[\"year\"] < 2012].copy()\n",
    "test = teams[teams[\"year\"] >= 2012].copy()"
   ]
  },
  {
   "cell_type": "code",
   "execution_count": 19,
   "id": "3ef9bd80",
   "metadata": {},
   "outputs": [
    {
     "data": {
      "text/plain": [
       "((1520, 7), (405, 7))"
      ]
     },
     "execution_count": 19,
     "metadata": {},
     "output_type": "execute_result"
    }
   ],
   "source": [
    "train.shape , test.shape"
   ]
  },
  {
   "cell_type": "markdown",
   "id": "2ff96e61",
   "metadata": {},
   "source": [
    "## Modeling"
   ]
  },
  {
   "cell_type": "code",
   "execution_count": 20,
   "id": "22c8f355",
   "metadata": {},
   "outputs": [],
   "source": [
    "from sklearn.linear_model import LinearRegression\n",
    "\n",
    "reg = LinearRegression()"
   ]
  },
  {
   "cell_type": "code",
   "execution_count": 21,
   "id": "0a26ae86",
   "metadata": {},
   "outputs": [
    {
     "data": {
      "text/html": [
       "<style>#sk-container-id-1 {color: black;background-color: white;}#sk-container-id-1 pre{padding: 0;}#sk-container-id-1 div.sk-toggleable {background-color: white;}#sk-container-id-1 label.sk-toggleable__label {cursor: pointer;display: block;width: 100%;margin-bottom: 0;padding: 0.3em;box-sizing: border-box;text-align: center;}#sk-container-id-1 label.sk-toggleable__label-arrow:before {content: \"▸\";float: left;margin-right: 0.25em;color: #696969;}#sk-container-id-1 label.sk-toggleable__label-arrow:hover:before {color: black;}#sk-container-id-1 div.sk-estimator:hover label.sk-toggleable__label-arrow:before {color: black;}#sk-container-id-1 div.sk-toggleable__content {max-height: 0;max-width: 0;overflow: hidden;text-align: left;background-color: #f0f8ff;}#sk-container-id-1 div.sk-toggleable__content pre {margin: 0.2em;color: black;border-radius: 0.25em;background-color: #f0f8ff;}#sk-container-id-1 input.sk-toggleable__control:checked~div.sk-toggleable__content {max-height: 200px;max-width: 100%;overflow: auto;}#sk-container-id-1 input.sk-toggleable__control:checked~label.sk-toggleable__label-arrow:before {content: \"▾\";}#sk-container-id-1 div.sk-estimator input.sk-toggleable__control:checked~label.sk-toggleable__label {background-color: #d4ebff;}#sk-container-id-1 div.sk-label input.sk-toggleable__control:checked~label.sk-toggleable__label {background-color: #d4ebff;}#sk-container-id-1 input.sk-hidden--visually {border: 0;clip: rect(1px 1px 1px 1px);clip: rect(1px, 1px, 1px, 1px);height: 1px;margin: -1px;overflow: hidden;padding: 0;position: absolute;width: 1px;}#sk-container-id-1 div.sk-estimator {font-family: monospace;background-color: #f0f8ff;border: 1px dotted black;border-radius: 0.25em;box-sizing: border-box;margin-bottom: 0.5em;}#sk-container-id-1 div.sk-estimator:hover {background-color: #d4ebff;}#sk-container-id-1 div.sk-parallel-item::after {content: \"\";width: 100%;border-bottom: 1px solid gray;flex-grow: 1;}#sk-container-id-1 div.sk-label:hover label.sk-toggleable__label {background-color: #d4ebff;}#sk-container-id-1 div.sk-serial::before {content: \"\";position: absolute;border-left: 1px solid gray;box-sizing: border-box;top: 0;bottom: 0;left: 50%;z-index: 0;}#sk-container-id-1 div.sk-serial {display: flex;flex-direction: column;align-items: center;background-color: white;padding-right: 0.2em;padding-left: 0.2em;position: relative;}#sk-container-id-1 div.sk-item {position: relative;z-index: 1;}#sk-container-id-1 div.sk-parallel {display: flex;align-items: stretch;justify-content: center;background-color: white;position: relative;}#sk-container-id-1 div.sk-item::before, #sk-container-id-1 div.sk-parallel-item::before {content: \"\";position: absolute;border-left: 1px solid gray;box-sizing: border-box;top: 0;bottom: 0;left: 50%;z-index: -1;}#sk-container-id-1 div.sk-parallel-item {display: flex;flex-direction: column;z-index: 1;position: relative;background-color: white;}#sk-container-id-1 div.sk-parallel-item:first-child::after {align-self: flex-end;width: 50%;}#sk-container-id-1 div.sk-parallel-item:last-child::after {align-self: flex-start;width: 50%;}#sk-container-id-1 div.sk-parallel-item:only-child::after {width: 0;}#sk-container-id-1 div.sk-dashed-wrapped {border: 1px dashed gray;margin: 0 0.4em 0.5em 0.4em;box-sizing: border-box;padding-bottom: 0.4em;background-color: white;}#sk-container-id-1 div.sk-label label {font-family: monospace;font-weight: bold;display: inline-block;line-height: 1.2em;}#sk-container-id-1 div.sk-label-container {text-align: center;}#sk-container-id-1 div.sk-container {/* jupyter's `normalize.less` sets `[hidden] { display: none; }` but bootstrap.min.css set `[hidden] { display: none !important; }` so we also need the `!important` here to be able to override the default hidden behavior on the sphinx rendered scikit-learn.org. See: https://github.com/scikit-learn/scikit-learn/issues/21755 */display: inline-block !important;position: relative;}#sk-container-id-1 div.sk-text-repr-fallback {display: none;}</style><div id=\"sk-container-id-1\" class=\"sk-top-container\"><div class=\"sk-text-repr-fallback\"><pre>LinearRegression()</pre><b>In a Jupyter environment, please rerun this cell to show the HTML representation or trust the notebook. <br />On GitHub, the HTML representation is unable to render, please try loading this page with nbviewer.org.</b></div><div class=\"sk-container\" hidden><div class=\"sk-item\"><div class=\"sk-estimator sk-toggleable\"><input class=\"sk-toggleable__control sk-hidden--visually\" id=\"sk-estimator-id-1\" type=\"checkbox\" checked><label for=\"sk-estimator-id-1\" class=\"sk-toggleable__label sk-toggleable__label-arrow\">LinearRegression</label><div class=\"sk-toggleable__content\"><pre>LinearRegression()</pre></div></div></div></div></div>"
      ],
      "text/plain": [
       "LinearRegression()"
      ]
     },
     "execution_count": 21,
     "metadata": {},
     "output_type": "execute_result"
    }
   ],
   "source": [
    "predictors = [\"athletes\", \"prev_medals\"]\n",
    "reg.fit(train[predictors], train[\"medals\"])"
   ]
  },
  {
   "cell_type": "code",
   "execution_count": 51,
   "id": "2edfd8c7",
   "metadata": {},
   "outputs": [
    {
     "data": {
      "text/plain": [
       "0.9199697805074554"
      ]
     },
     "execution_count": 51,
     "metadata": {},
     "output_type": "execute_result"
    }
   ],
   "source": [
    "reg.score(test[predictors],test[\"medals\"])"
   ]
  },
  {
   "cell_type": "code",
   "execution_count": 24,
   "id": "0c0a85e7",
   "metadata": {},
   "outputs": [],
   "source": [
    "predictions = reg.predict(test[predictors])"
   ]
  },
  {
   "cell_type": "code",
   "execution_count": 27,
   "id": "9cc35ab3",
   "metadata": {},
   "outputs": [
    {
     "data": {
      "text/plain": [
       "array([-8.16703556e-01, -1.01850742e+00, -1.30971711e+00, -1.57878893e+00,\n",
       "        2.16522433e+00,  3.75751739e+00, -1.57878893e+00, -1.71332484e+00,\n",
       "        3.71981770e-01, -2.33429825e-01, -1.71332484e+00, -1.37698506e+00,\n",
       "        4.68396146e+01,  2.81033909e+01,  4.67542217e+00,  2.59096992e+00,\n",
       "       -1.71332484e+00, -1.51152097e+00, -1.71332484e+00, -1.71332484e+00,\n",
       "        1.46144052e+02,  1.19740136e+02,  6.35797541e+00,  3.73537952e+00,\n",
       "        7.32101028e+00,  1.02799459e+01,  5.30297163e+00,  3.62212711e+00,\n",
       "       -1.51152097e+00, -1.51152097e+00, -1.44425302e+00, -1.10791324e+00,\n",
       "       -1.57878893e+00, -1.30971711e+00,  1.13800798e+01,  9.58683725e+00,\n",
       "       -1.64605688e+00, -1.57878893e+00, -1.44425302e+00, -1.44425302e+00,\n",
       "       -1.84786075e+00, -1.84786075e+00, -1.44425302e+00, -1.24244915e+00,\n",
       "       -1.78059279e+00, -1.78059279e+00,  3.25626508e+01,  2.50976165e+01,\n",
       "       -1.64605688e+00, -1.17518120e+00, -1.71332484e+00, -2.78559916e-01,\n",
       "        7.80442564e+01,  8.21978580e+01, -1.04064529e+00,  9.99531230e-01,\n",
       "       -1.78059279e+00, -1.78059279e+00,  6.87312682e+00,  3.44331548e+00,\n",
       "       -1.64605688e+00, -1.64605688e+00, -1.57878893e+00, -1.57878893e+00,\n",
       "       -1.57878893e+00, -1.57878893e+00,  4.85034474e+01,  6.71758205e+01,\n",
       "       -1.51152097e+00, -1.64605688e+00, -1.51152097e+00, -1.30971711e+00,\n",
       "       -1.84786075e+00, -1.84786075e+00,  1.73947874e+00,  1.17919723e+00,\n",
       "        1.70462662e+02,  1.26844984e+02, -1.30971711e+00, -9.73377331e-01,\n",
       "        9.32263275e-01, -5.02501645e-01, -1.71332484e+00, -1.71332484e+00,\n",
       "       -1.37698506e+00, -1.37698506e+00,  7.61392869e+00,  1.46753552e+01,\n",
       "       -1.78059279e+00, -1.71332484e+00, -1.78059279e+00, -1.64605688e+00,\n",
       "       -1.24244915e+00, -1.17518120e+00,  9.76564889e+00,  3.09465111e+01,\n",
       "        4.17732344e+01,  1.83061161e+01, -1.10791324e+00,  1.92315769e-01,\n",
       "        1.40478058e+01,  1.77679725e+01,  2.25201507e+01,  1.98302868e+01,\n",
       "       -1.71332484e+00, -1.44425302e+00, -1.84786075e+00, -1.84786075e+00,\n",
       "        1.96342046e+00,  1.55981273e+00,  1.20133509e+00,  7.08321545e-01,\n",
       "        7.65905878e+00,  8.75748392e+00, -1.17518120e+00, -1.17518120e+00,\n",
       "       -1.24244915e+00, -1.30971711e+00,  7.41674160e+01,  7.04472493e+01,\n",
       "        2.72550583e+00,  2.83790388e+00,  5.63931140e+00,  5.90838322e+00,\n",
       "       -1.37698506e+00,  1.58280496e+00,  6.46951909e+00,  6.33498318e+00,\n",
       "        8.53543257e+01,  9.49497966e+01, -1.57878893e+00, -1.64605688e+00,\n",
       "       -5.69769600e-01, -8.16703556e-01, -1.84786075e+00,  1.05757800e+02,\n",
       "        1.26194442e+02, -1.71332484e+00, -1.64605688e+00,  5.01176194e+00,\n",
       "        6.37925891e+00, -1.84786075e+00, -1.91512870e+00,  1.07770712e+02,\n",
       "        1.05709252e+02, -1.51152097e+00, -9.73377331e-01,  1.10880158e+01,\n",
       "        7.29972678e+00, -1.44425302e+00, -8.16703556e-01, -3.67965735e-01,\n",
       "        4.61387589e-01, -1.71332484e+00, -1.64605688e+00, -1.44425302e+00,\n",
       "       -1.64605688e+00, -1.57878893e+00, -1.51152097e+00, -1.64605688e+00,\n",
       "       -1.30971711e+00,  1.71734087e+00,  1.94128260e+00, -3.00697780e-01,\n",
       "       -4.35233690e-01,  3.21147673e+01,  3.15544858e+01,  4.83209594e+00,\n",
       "        1.62708069e+00,  6.69431518e+00,  1.13349497e+01, -1.71332484e+00,\n",
       "       -1.37698506e+00,  3.37604752e+00,  1.16695808e+01,  5.41622404e+00,\n",
       "        8.08395001e+00, -1.44425302e+00, -6.37037556e-01,  1.11084449e+01,\n",
       "       -1.04064529e+00,  2.54669420e+00,  1.98641269e+00, -1.37698506e+00,\n",
       "       -1.51152097e+00,  5.57215477e+01,  7.66793226e+01, -1.84786075e+00,\n",
       "       -1.71332484e+00,  1.28574117e+01,  2.22493701e+01, -1.37698506e+00,\n",
       "       -1.44425302e+00,  6.37238713e+01,  9.13616028e+01,  1.68040832e+01,\n",
       "        1.61986716e+01,  1.28795496e+01,  1.17819788e+01,  5.50793409e-01,\n",
       "       -7.04305511e-01, -1.78059279e+00, -1.78059279e+00,  7.84478642e+01,\n",
       "        6.21962831e+01, -4.35233690e-01,  1.80589233e+00, -1.17518120e+00,\n",
       "       -1.78059279e+00, -1.64605688e+00,  3.66725721e+00,  2.52370197e+00,\n",
       "       -1.71332484e+00, -1.51152097e+00, -1.78059279e+00, -1.71332484e+00,\n",
       "       -1.64605688e+00, -1.71332484e+00, -1.37698506e+00, -1.30971711e+00,\n",
       "       -1.37698506e+00, -1.71332484e+00, -1.78059279e+00,  6.67132296e+00,\n",
       "        7.20946660e+00, -1.24244915e+00, -9.73377331e-01, -1.51152097e+00,\n",
       "       -1.57878893e+00,  4.04872707e+00,  2.27762238e+00,  1.33587100e+00,\n",
       "        2.36702819e+00, -1.78059279e+00, -1.64605688e+00,  1.25047814e-01,\n",
       "        1.08893705e+00, -1.64605688e+00, -1.71332484e+00,  9.07083147e+00,\n",
       "        2.56578980e+01,  3.21851938e+00,  4.92235612e+00, -1.71332484e+00,\n",
       "       -1.64605688e+00, -1.71332484e+00, -1.57878893e+00, -1.57878893e+00,\n",
       "       -1.57878893e+00, -1.64605688e+00, -1.44425302e+00,  3.04713815e-01,\n",
       "        1.10411769e+01, -1.57878893e+00, -1.44425302e+00, -1.57878893e+00,\n",
       "       -1.44425302e+00, -4.80363781e-01, -1.24244915e+00, -1.84786075e+00,\n",
       "       -1.84786075e+00, -1.57878893e+00, -1.44425302e+00, -1.37698506e+00,\n",
       "       -1.24244915e+00, -1.57878893e+00, -1.64605688e+00,  5.94382969e+01,\n",
       "        7.27326511e+01, -1.64605688e+00, -1.51152097e+00,  1.94471082e+01,\n",
       "        3.19723588e+00, -1.57878893e+00, -1.57878893e+00,  1.94249704e+01,\n",
       "        1.61526872e+01, -1.84786075e+00, -1.84786075e+00,  2.31715467e+01,\n",
       "        3.42000739e+01, -1.78059279e+00, -1.71332484e+00, -5.69769600e-01,\n",
       "       -1.51152097e+00, -6.82167646e-01, -1.04064529e+00, -1.30971711e+00,\n",
       "       -1.24244915e+00, -9.06109376e-01,  3.04713815e-01, -1.24244915e+00,\n",
       "       -1.10791324e+00, -1.64605688e+00, -1.57878893e+00, -1.64605688e+00,\n",
       "       -1.57878893e+00, -1.44425302e+00, -1.44425302e+00,  3.04799072e+01,\n",
       "        2.66030668e+01,  6.13403368e+00,  6.67217732e+00,  6.42438900e+00,\n",
       "        5.14629785e+00, -9.88939152e-02,  2.29976024e+00, -1.04064529e+00,\n",
       "        2.36702819e+00,  2.52100145e+01,  1.83503918e+01,  8.53354219e+00,\n",
       "        1.53029047e+01,  1.43163833e+02,  1.32020345e+02, -1.51152097e+00,\n",
       "       -1.51152097e+00, -1.37698506e+00, -1.37698506e+00,  1.70177905e-01,\n",
       "       -5.02501645e-01, -1.57878893e+00, -1.30971711e+00,  2.72550583e+00,\n",
       "        3.21851938e+00, -1.51152097e+00, -1.37698506e+00, -1.84786075e+00,\n",
       "       -1.71332484e+00,  7.07493069e+00,  6.53678705e+00, -1.71332484e+00,\n",
       "       -1.71332484e+00, -1.71332484e+00, -1.78059279e+00,  1.84627899e+01,\n",
       "        1.87539996e+01, -1.44425302e+00, -1.30971711e+00, -1.84786075e+00,\n",
       "       -1.78059279e+00, -8.16703556e-01, -1.57878893e+00,  1.48763047e+01,\n",
       "        1.12906740e+01, -1.64605688e+00, -1.57878893e+00,  1.00108741e+01,\n",
       "        6.06591136e+00,  1.46532174e+01,  2.72953211e+01, -1.78059279e+00,\n",
       "       -1.84786075e+00, -1.30971711e+00, -1.51152097e+00, -1.57878893e+00,\n",
       "       -1.51152097e+00, -1.78059279e+00, -1.51152097e+00,  3.95846689e+00,\n",
       "        4.20540085e+00,  6.18061364e-01, -7.49435601e-01, -1.30971711e+00,\n",
       "       -1.37698506e+00, -1.84786075e+00, -1.78059279e+00, -8.16703556e-01,\n",
       "       -1.64605688e+00,  4.76568235e+00,  4.04872707e+00,  5.14629785e+00,\n",
       "        8.53097911e+00,  4.63200080e+00,  4.67627653e+00,  1.13570876e+01,\n",
       "        9.83291684e+00, -1.78059279e+00, -1.91512870e+00, -2.33429825e-01,\n",
       "       -1.17518120e+00, -9.06109376e-01,  3.26851679e-01,  4.20917081e+01,\n",
       "        3.61287067e+01, -1.66161870e-01, -8.38841421e-01,  2.85946287e+02,\n",
       "        2.35380435e+02,  6.35712104e+00,  5.68529586e+00, -1.64605688e+00,\n",
       "       -1.71332484e+00,  4.49746489e+00,  5.84282399e+00,  3.94119634e-01,\n",
       "       -9.88939152e-02, -1.78059279e+00, -1.71332484e+00, -1.71332484e+00,\n",
       "       -1.78059279e+00, -1.51152097e+00, -1.51152097e+00,  1.67135642e+00,\n",
       "        1.02909950e-01])"
      ]
     },
     "execution_count": 27,
     "metadata": {},
     "output_type": "execute_result"
    }
   ],
   "source": [
    "predictions"
   ]
  },
  {
   "cell_type": "code",
   "execution_count": 28,
   "id": "93dec724",
   "metadata": {},
   "outputs": [
    {
     "data": {
      "text/html": [
       "<div>\n",
       "<style scoped>\n",
       "    .dataframe tbody tr th:only-of-type {\n",
       "        vertical-align: middle;\n",
       "    }\n",
       "\n",
       "    .dataframe tbody tr th {\n",
       "        vertical-align: top;\n",
       "    }\n",
       "\n",
       "    .dataframe thead th {\n",
       "        text-align: right;\n",
       "    }\n",
       "</style>\n",
       "<table border=\"1\" class=\"dataframe\">\n",
       "  <thead>\n",
       "    <tr style=\"text-align: right;\">\n",
       "      <th></th>\n",
       "      <th>team</th>\n",
       "      <th>country</th>\n",
       "      <th>year</th>\n",
       "      <th>athletes</th>\n",
       "      <th>age</th>\n",
       "      <th>prev_medals</th>\n",
       "      <th>medals</th>\n",
       "      <th>predictions</th>\n",
       "    </tr>\n",
       "  </thead>\n",
       "  <tbody>\n",
       "    <tr>\n",
       "      <th>6</th>\n",
       "      <td>AFG</td>\n",
       "      <td>Afghanistan</td>\n",
       "      <td>2012</td>\n",
       "      <td>6</td>\n",
       "      <td>24.8</td>\n",
       "      <td>1.0</td>\n",
       "      <td>1</td>\n",
       "      <td>0.0</td>\n",
       "    </tr>\n",
       "    <tr>\n",
       "      <th>7</th>\n",
       "      <td>AFG</td>\n",
       "      <td>Afghanistan</td>\n",
       "      <td>2016</td>\n",
       "      <td>3</td>\n",
       "      <td>24.7</td>\n",
       "      <td>1.0</td>\n",
       "      <td>0</td>\n",
       "      <td>0.0</td>\n",
       "    </tr>\n",
       "    <tr>\n",
       "      <th>24</th>\n",
       "      <td>ALB</td>\n",
       "      <td>Albania</td>\n",
       "      <td>2012</td>\n",
       "      <td>10</td>\n",
       "      <td>25.7</td>\n",
       "      <td>0.0</td>\n",
       "      <td>0</td>\n",
       "      <td>0.0</td>\n",
       "    </tr>\n",
       "    <tr>\n",
       "      <th>25</th>\n",
       "      <td>ALB</td>\n",
       "      <td>Albania</td>\n",
       "      <td>2016</td>\n",
       "      <td>6</td>\n",
       "      <td>23.7</td>\n",
       "      <td>0.0</td>\n",
       "      <td>0</td>\n",
       "      <td>0.0</td>\n",
       "    </tr>\n",
       "    <tr>\n",
       "      <th>37</th>\n",
       "      <td>ALG</td>\n",
       "      <td>Algeria</td>\n",
       "      <td>2012</td>\n",
       "      <td>39</td>\n",
       "      <td>24.8</td>\n",
       "      <td>2.0</td>\n",
       "      <td>1</td>\n",
       "      <td>2.0</td>\n",
       "    </tr>\n",
       "    <tr>\n",
       "      <th>...</th>\n",
       "      <td>...</td>\n",
       "      <td>...</td>\n",
       "      <td>...</td>\n",
       "      <td>...</td>\n",
       "      <td>...</td>\n",
       "      <td>...</td>\n",
       "      <td>...</td>\n",
       "      <td>...</td>\n",
       "    </tr>\n",
       "    <tr>\n",
       "      <th>2111</th>\n",
       "      <td>YEM</td>\n",
       "      <td>Yemen</td>\n",
       "      <td>2016</td>\n",
       "      <td>3</td>\n",
       "      <td>19.3</td>\n",
       "      <td>0.0</td>\n",
       "      <td>0</td>\n",
       "      <td>0.0</td>\n",
       "    </tr>\n",
       "    <tr>\n",
       "      <th>2131</th>\n",
       "      <td>ZAM</td>\n",
       "      <td>Zambia</td>\n",
       "      <td>2012</td>\n",
       "      <td>7</td>\n",
       "      <td>22.6</td>\n",
       "      <td>0.0</td>\n",
       "      <td>0</td>\n",
       "      <td>0.0</td>\n",
       "    </tr>\n",
       "    <tr>\n",
       "      <th>2132</th>\n",
       "      <td>ZAM</td>\n",
       "      <td>Zambia</td>\n",
       "      <td>2016</td>\n",
       "      <td>7</td>\n",
       "      <td>24.1</td>\n",
       "      <td>0.0</td>\n",
       "      <td>0</td>\n",
       "      <td>0.0</td>\n",
       "    </tr>\n",
       "    <tr>\n",
       "      <th>2142</th>\n",
       "      <td>ZIM</td>\n",
       "      <td>Zimbabwe</td>\n",
       "      <td>2012</td>\n",
       "      <td>9</td>\n",
       "      <td>27.3</td>\n",
       "      <td>4.0</td>\n",
       "      <td>0</td>\n",
       "      <td>2.0</td>\n",
       "    </tr>\n",
       "    <tr>\n",
       "      <th>2143</th>\n",
       "      <td>ZIM</td>\n",
       "      <td>Zimbabwe</td>\n",
       "      <td>2016</td>\n",
       "      <td>31</td>\n",
       "      <td>27.5</td>\n",
       "      <td>0.0</td>\n",
       "      <td>0</td>\n",
       "      <td>0.0</td>\n",
       "    </tr>\n",
       "  </tbody>\n",
       "</table>\n",
       "<p>405 rows × 8 columns</p>\n",
       "</div>"
      ],
      "text/plain": [
       "     team      country  year  athletes   age  prev_medals  medals  predictions\n",
       "6     AFG  Afghanistan  2012         6  24.8          1.0       1          0.0\n",
       "7     AFG  Afghanistan  2016         3  24.7          1.0       0          0.0\n",
       "24    ALB      Albania  2012        10  25.7          0.0       0          0.0\n",
       "25    ALB      Albania  2016         6  23.7          0.0       0          0.0\n",
       "37    ALG      Algeria  2012        39  24.8          2.0       1          2.0\n",
       "...   ...          ...   ...       ...   ...          ...     ...          ...\n",
       "2111  YEM        Yemen  2016         3  19.3          0.0       0          0.0\n",
       "2131  ZAM       Zambia  2012         7  22.6          0.0       0          0.0\n",
       "2132  ZAM       Zambia  2016         7  24.1          0.0       0          0.0\n",
       "2142  ZIM     Zimbabwe  2012         9  27.3          4.0       0          2.0\n",
       "2143  ZIM     Zimbabwe  2016        31  27.5          0.0       0          0.0\n",
       "\n",
       "[405 rows x 8 columns]"
      ]
     },
     "execution_count": 28,
     "metadata": {},
     "output_type": "execute_result"
    }
   ],
   "source": [
    "test[\"predictions\"] = predictions\n",
    "test.loc[test[\"predictions\"] < 0.7, \"predictions\"] = 0\n",
    "test[\"predictions\"] = test[\"predictions\"].round()\n",
    "# since medals  are whole numbers\n",
    "test"
   ]
  },
  {
   "cell_type": "code",
   "execution_count": 29,
   "id": "6d38acb0",
   "metadata": {},
   "outputs": [
    {
     "data": {
      "text/plain": [
       "3.269135802469136"
      ]
     },
     "execution_count": 29,
     "metadata": {},
     "output_type": "execute_result"
    }
   ],
   "source": [
    "from sklearn.metrics import mean_absolute_error\n",
    "\n",
    "error = mean_absolute_error(test[\"medals\"], test[\"predictions\"])\n",
    "error"
   ]
  },
  {
   "cell_type": "code",
   "execution_count": 30,
   "id": "d4900a62",
   "metadata": {},
   "outputs": [
    {
     "data": {
      "text/plain": [
       "count    1925.000000\n",
       "mean       10.852987\n",
       "std        33.664955\n",
       "min         0.000000\n",
       "25%         0.000000\n",
       "50%         0.000000\n",
       "75%         4.000000\n",
       "max       442.000000\n",
       "Name: medals, dtype: float64"
      ]
     },
     "execution_count": 30,
     "metadata": {},
     "output_type": "execute_result"
    }
   ],
   "source": [
    "teams.describe()[\"medals\"]"
   ]
  },
  {
   "cell_type": "code",
   "execution_count": 31,
   "id": "97548f1e",
   "metadata": {},
   "outputs": [
    {
     "data": {
      "text/html": [
       "<div>\n",
       "<style scoped>\n",
       "    .dataframe tbody tr th:only-of-type {\n",
       "        vertical-align: middle;\n",
       "    }\n",
       "\n",
       "    .dataframe tbody tr th {\n",
       "        vertical-align: top;\n",
       "    }\n",
       "\n",
       "    .dataframe thead th {\n",
       "        text-align: right;\n",
       "    }\n",
       "</style>\n",
       "<table border=\"1\" class=\"dataframe\">\n",
       "  <thead>\n",
       "    <tr style=\"text-align: right;\">\n",
       "      <th></th>\n",
       "      <th>team</th>\n",
       "      <th>country</th>\n",
       "      <th>year</th>\n",
       "      <th>athletes</th>\n",
       "      <th>age</th>\n",
       "      <th>prev_medals</th>\n",
       "      <th>medals</th>\n",
       "      <th>predictions</th>\n",
       "    </tr>\n",
       "  </thead>\n",
       "  <tbody>\n",
       "    <tr>\n",
       "      <th>2053</th>\n",
       "      <td>USA</td>\n",
       "      <td>United States</td>\n",
       "      <td>2012</td>\n",
       "      <td>689</td>\n",
       "      <td>26.7</td>\n",
       "      <td>317.0</td>\n",
       "      <td>248</td>\n",
       "      <td>286.0</td>\n",
       "    </tr>\n",
       "    <tr>\n",
       "      <th>2054</th>\n",
       "      <td>USA</td>\n",
       "      <td>United States</td>\n",
       "      <td>2016</td>\n",
       "      <td>719</td>\n",
       "      <td>26.4</td>\n",
       "      <td>248.0</td>\n",
       "      <td>264</td>\n",
       "      <td>235.0</td>\n",
       "    </tr>\n",
       "  </tbody>\n",
       "</table>\n",
       "</div>"
      ],
      "text/plain": [
       "     team        country  year  athletes   age  prev_medals  medals  \\\n",
       "2053  USA  United States  2012       689  26.7        317.0     248   \n",
       "2054  USA  United States  2016       719  26.4        248.0     264   \n",
       "\n",
       "      predictions  \n",
       "2053        286.0  \n",
       "2054        235.0  "
      ]
     },
     "execution_count": 31,
     "metadata": {},
     "output_type": "execute_result"
    }
   ],
   "source": [
    "test[test[\"team\"] == \"USA\"]"
   ]
  },
  {
   "cell_type": "code",
   "execution_count": 32,
   "id": "a3f159bb",
   "metadata": {},
   "outputs": [
    {
     "data": {
      "text/html": [
       "<div>\n",
       "<style scoped>\n",
       "    .dataframe tbody tr th:only-of-type {\n",
       "        vertical-align: middle;\n",
       "    }\n",
       "\n",
       "    .dataframe tbody tr th {\n",
       "        vertical-align: top;\n",
       "    }\n",
       "\n",
       "    .dataframe thead th {\n",
       "        text-align: right;\n",
       "    }\n",
       "</style>\n",
       "<table border=\"1\" class=\"dataframe\">\n",
       "  <thead>\n",
       "    <tr style=\"text-align: right;\">\n",
       "      <th></th>\n",
       "      <th>team</th>\n",
       "      <th>country</th>\n",
       "      <th>year</th>\n",
       "      <th>athletes</th>\n",
       "      <th>age</th>\n",
       "      <th>prev_medals</th>\n",
       "      <th>medals</th>\n",
       "      <th>predictions</th>\n",
       "    </tr>\n",
       "  </thead>\n",
       "  <tbody>\n",
       "    <tr>\n",
       "      <th>907</th>\n",
       "      <td>IND</td>\n",
       "      <td>India</td>\n",
       "      <td>2012</td>\n",
       "      <td>95</td>\n",
       "      <td>26.0</td>\n",
       "      <td>3.0</td>\n",
       "      <td>6</td>\n",
       "      <td>7.0</td>\n",
       "    </tr>\n",
       "    <tr>\n",
       "      <th>908</th>\n",
       "      <td>IND</td>\n",
       "      <td>India</td>\n",
       "      <td>2016</td>\n",
       "      <td>130</td>\n",
       "      <td>26.1</td>\n",
       "      <td>6.0</td>\n",
       "      <td>2</td>\n",
       "      <td>11.0</td>\n",
       "    </tr>\n",
       "  </tbody>\n",
       "</table>\n",
       "</div>"
      ],
      "text/plain": [
       "    team country  year  athletes   age  prev_medals  medals  predictions\n",
       "907  IND   India  2012        95  26.0          3.0       6          7.0\n",
       "908  IND   India  2016       130  26.1          6.0       2         11.0"
      ]
     },
     "execution_count": 32,
     "metadata": {},
     "output_type": "execute_result"
    }
   ],
   "source": [
    "test[test[\"team\"] == \"IND\"]"
   ]
  },
  {
   "cell_type": "code",
   "execution_count": 35,
   "id": "1dcd991b",
   "metadata": {},
   "outputs": [
    {
     "data": {
      "text/plain": [
       "team\n",
       "AFG    1.417605\n",
       "ALB    1.444253\n",
       "ALG    1.461371\n",
       "AND    1.646057\n",
       "ANG    0.302706\n",
       "         ...   \n",
       "VIE    1.246507\n",
       "VIN    1.746959\n",
       "YEM    1.746959\n",
       "ZAM    1.511521\n",
       "ZIM    0.887133\n",
       "Name: medals, Length: 204, dtype: float64"
      ]
     },
     "execution_count": 35,
     "metadata": {},
     "output_type": "execute_result"
    }
   ],
   "source": [
    "errors = (test[\"medals\"] - predictions).abs()\n",
    "error_by_team = errors.groupby(test[\"team\"]).mean()\n",
    "error_by_team"
   ]
  },
  {
   "cell_type": "code",
   "execution_count": 37,
   "id": "55ecd056",
   "metadata": {},
   "outputs": [
    {
     "data": {
      "text/plain": [
       "team\n",
       "AFG    0.5\n",
       "ALB    0.0\n",
       "ALG    1.5\n",
       "AND    0.0\n",
       "ANG    0.0\n",
       "      ... \n",
       "VIE    1.0\n",
       "VIN    0.0\n",
       "YEM    0.0\n",
       "ZAM    0.0\n",
       "ZIM    0.0\n",
       "Name: medals, Length: 204, dtype: float64"
      ]
     },
     "execution_count": 37,
     "metadata": {},
     "output_type": "execute_result"
    }
   ],
   "source": [
    "medals_by_team = test[\"medals\"].groupby(test[\"team\"]).mean()\n",
    "medals_by_team"
   ]
  },
  {
   "cell_type": "code",
   "execution_count": 45,
   "id": "482c142f",
   "metadata": {},
   "outputs": [
    {
     "data": {
      "text/plain": [
       "team\n",
       "AFG    2.835211\n",
       "ALB         inf\n",
       "ALG    0.974247\n",
       "AND         inf\n",
       "ANG         inf\n",
       "         ...   \n",
       "VIE    1.246507\n",
       "VIN         inf\n",
       "YEM         inf\n",
       "ZAM         inf\n",
       "ZIM         inf\n",
       "Name: medals, Length: 204, dtype: float64"
      ]
     },
     "execution_count": 45,
     "metadata": {},
     "output_type": "execute_result"
    }
   ],
   "source": [
    "error_ratio =  error_by_team / medals_by_team \n",
    "error_ratio"
   ]
  },
  {
   "cell_type": "code",
   "execution_count": 46,
   "id": "1c133fc4",
   "metadata": {},
   "outputs": [],
   "source": [
    "import numpy as np\n",
    "error_ratio = error_ratio[np.isfinite(error_ratio)]"
   ]
  },
  {
   "cell_type": "code",
   "execution_count": 47,
   "id": "8501a5d6",
   "metadata": {},
   "outputs": [
    {
     "data": {
      "text/plain": [
       "team\n",
       "AFG    2.835211\n",
       "ALG    0.974247\n",
       "ARG    0.827878\n",
       "ARM    0.440636\n",
       "AUS    0.356552\n",
       "         ...   \n",
       "UKR    0.907815\n",
       "USA    0.130011\n",
       "UZB    0.666989\n",
       "VEN    1.585072\n",
       "VIE    1.246507\n",
       "Name: medals, Length: 97, dtype: float64"
      ]
     },
     "execution_count": 47,
     "metadata": {},
     "output_type": "execute_result"
    }
   ],
   "source": [
    "error_ratio"
   ]
  },
  {
   "cell_type": "code",
   "execution_count": 48,
   "id": "bfbc7638",
   "metadata": {},
   "outputs": [
    {
     "data": {
      "text/plain": [
       "<Axes: ylabel='Frequency'>"
      ]
     },
     "execution_count": 48,
     "metadata": {},
     "output_type": "execute_result"
    },
    {
     "data": {
      "image/png": "[encoded data removed]",
      "text/plain": [
       "<Figure size 640x480 with 1 Axes>"
      ]
     },
     "metadata": {},
     "output_type": "display_data"
    }
   ],
   "source": [
    "error_ratio.plot.hist();"
   ]
  },
  {
   "cell_type": "code",
   "execution_count": 49,
   "id": "7ce4e7b2",
   "metadata": {},
   "outputs": [
    {
     "data": {
      "text/plain": [
       "team\n",
       "FRA    0.024745\n",
       "CAN    0.067103\n",
       "RUS    0.079154\n",
       "NZL    0.089339\n",
       "CZE    0.097096\n",
       "         ...   \n",
       "PHI    3.350362\n",
       "JOR    3.821238\n",
       "BDI    3.888506\n",
       "AUT    4.046677\n",
       "NIG    4.157578\n",
       "Name: medals, Length: 97, dtype: float64"
      ]
     },
     "execution_count": 49,
     "metadata": {},
     "output_type": "execute_result"
    }
   ],
   "source": [
    "error_ratio.sort_values()"
   ]
  },
  {
   "cell_type": "markdown",
   "id": "e00ca6c9",
   "metadata": {},
   "source": []
  }
 ],
 "metadata": {
  "kernelspec": {
   "display_name": "Python 3 (ipykernel)",
   "language": "python",
   "name": "python3"
  },
  "language_info": {
   "codemirror_mode": {
    "name": "ipython",
    "version": 3
   },
   "file_extension": ".py",
   "mimetype": "text/x-python",
   "name": "python",
   "nbconvert_exporter": "python",
   "pygments_lexer": "ipython3",
   "version": "3.11.3"
  }
 },
 "nbformat": 4,
 "nbformat_minor": 5
}
